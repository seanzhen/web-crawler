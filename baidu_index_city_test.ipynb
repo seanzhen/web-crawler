{
 "cells": [
  {
   "cell_type": "code",
   "execution_count": 1,
   "metadata": {},
   "outputs": [],
   "source": [
    "import pandas as pd\n",
    "import datetime\n",
    "dict_data = {'2018-12-30': 1301, '2018-12-31': 1210, '2019-01-01': 1117, '2019-01-02': 1374, '2019-01-03': 1504, '2019-01-04': 1655, '2019-01-05': 1377, '2019-01-06': 1348, '2019-01-07': 1351, '2019-01-08': 1432, '2019-01-09': 1446, '2019-01-10': 1454, '2019-01-11': 1363, '2019-01-12': 1367, '2019-01-13': 1332, '2019-01-14': 1477, '2019-01-15': 1282, '2019-01-16': 1338, '2019-01-17': 1262, '2019-01-18': 1337, '2019-01-19': 1141, '2019-01-20': 1223, '2019-01-21': 1314, '2019-01-22': 1297, '2019-01-23': 1298, '2019-01-24': 1324, '2019-01-25': 1575, '2019-01-26': 1322, '2019-01-27': 1317}\n",
    "from selenium import webdriver\n",
    "from selenium.webdriver.common.action_chains import ActionChains\n",
    "import time"
   ]
  },
  {
   "cell_type": "code",
   "execution_count": 22,
   "metadata": {
    "code_folding": []
   },
   "outputs": [
    {
     "name": "stderr",
     "output_type": "stream",
     "text": [
      "C:\\Users\\seanz\\Anaconda3\\lib\\site-packages\\ipykernel_launcher.py:4: DeprecationWarning: use options instead of chrome_options\n",
      "  after removing the cwd from sys.path.\n"
     ]
    }
   ],
   "source": [
    "option = webdriver.ChromeOptions()\n",
    "option.add_argument('lang=zh_CN.UTF-8')\n",
    "option.add_argument(\"User-agent='Mozilla/5.0 (Windows NT 10.0; Win64; x64) AppleWebKit/537.36 (KHTML, like Gecko) \\\n",
    " Chrome/71.0.3578.98 Safari/537.36'\")\n",
    "driver = webdriver.Chrome('C:/Users/seanz/Downloads/chromedriver.exe',chrome_options=option)\n",
    "url1 = 'https://passport.baidu.com/v2/?login'\n",
    "url2 = 'http://index.baidu.com'\n",
    "driver.get(url1)\n",
    "time.sleep(8)\n",
    "driver.get(url2)\n",
    "time.sleep(1)\n",
    "# 写入关键词\n",
    "driver.find_element_by_xpath(\"//*[@id='search-input-form']/input[3]\").clear()\n",
    "keyword = u\"车祸\"\n",
    "driver.find_element_by_xpath(\"//*[@id='search-input-form']/input[3]\").send_keys(keyword)\n",
    "driver.find_element_by_css_selector('div.search-input-operate').click()\n",
    "# time.sleep(2)\n",
    "# driver.maximize_window()\n",
    "driver.set_window_size(1500, 900)\n",
    "\n",
    "driver.find_elements_by_xpath('//*[@class=\"index-region\"]')[0].click()\n",
    "province = driver.find_elements_by_css_selector('div.provinces-group-box')"
   ]
  },
  {
   "cell_type": "code",
   "execution_count": 29,
   "metadata": {
    "code_folding": []
   },
   "outputs": [
    {
     "name": "stdout",
     "output_type": "stream",
     "text": [
      "9\n",
      "9\n",
      "9\n",
      "7\n"
     ]
    }
   ],
   "source": [
    "l = []\n",
    "for i in province:\n",
    "    print(len(i.find_elements_by_tag_name('span')))\n",
    "    l.extend(i.find_elements_by_tag_name('span'))"
   ]
  },
  {
   "cell_type": "code",
   "execution_count": 33,
   "metadata": {},
   "outputs": [
    {
     "name": "stdout",
     "output_type": "stream",
     "text": [
      "安徽\n",
      "澳门\n",
      "北京\n",
      "重庆\n",
      "福建\n",
      "广东\n",
      "广西\n",
      "甘肃\n",
      "贵州\n",
      "河北\n",
      "黑龙江\n",
      "河南\n",
      "湖南\n",
      "湖北\n",
      "海南\n",
      "吉林\n",
      "江苏\n",
      "江西\n",
      "辽宁\n",
      "内蒙古\n",
      "宁夏\n",
      "青海\n",
      "上海\n",
      "四川\n",
      "山东\n",
      "山西\n",
      "陕西\n",
      "天津\n",
      "台湾\n",
      "西藏\n",
      "香港\n",
      "新疆\n",
      "云南\n",
      "浙江\n"
     ]
    }
   ],
   "source": [
    "for j in l:\n",
    "    print(j.text)\n",
    "#     j.click()\n",
    "#     break"
   ]
  },
  {
   "cell_type": "code",
   "execution_count": 21,
   "metadata": {},
   "outputs": [
    {
     "name": "stdout",
     "output_type": "stream",
     "text": [
      "no city\n"
     ]
    }
   ],
   "source": [
    "if not driver.find_elements_by_css_selector('div.city-group-box'):\n",
    "    print('no city')"
   ]
  },
  {
   "cell_type": "code",
   "execution_count": null,
   "metadata": {},
   "outputs": [],
   "source": []
  }
 ],
 "metadata": {
  "kernelspec": {
   "display_name": "Python 3",
   "language": "python",
   "name": "python3"
  },
  "language_info": {
   "codemirror_mode": {
    "name": "ipython",
    "version": 3
   },
   "file_extension": ".py",
   "mimetype": "text/x-python",
   "name": "python",
   "nbconvert_exporter": "python",
   "pygments_lexer": "ipython3",
   "version": "3.7.0"
  }
 },
 "nbformat": 4,
 "nbformat_minor": 2
}
